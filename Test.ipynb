{
 "cells": [
  {
   "cell_type": "code",
   "execution_count": 1,
   "id": "19de197b-48d9-4109-91ec-f658277306f4",
   "metadata": {
    "tags": []
   },
   "outputs": [
    {
     "name": "stdout",
     "output_type": "stream",
     "text": [
      "Test\n"
     ]
    }
   ],
   "source": [
    "print(f'Test')"
   ]
  },
  {
   "cell_type": "code",
   "execution_count": 1,
   "id": "ac605bf5-940f-45c2-ab63-d7e39f3f7820",
   "metadata": {},
   "outputs": [
    {
     "name": "stdout",
     "output_type": "stream",
     "text": [
      "Upload changes\n"
     ]
    }
   ],
   "source": [
    "print(f'Upload changes')"
   ]
  },
  {
   "cell_type": "code",
   "execution_count": null,
   "id": "d9bce7d1-8573-41fa-a381-a4bab31e792e",
   "metadata": {},
   "outputs": [],
   "source": []
  }
 ],
 "metadata": {
  "kernelspec": {
   "display_name": "Python",
   "language": "python",
   "name": "python3"
  },
  "language_info": {
   "codemirror_mode": {
    "name": "ipython",
    "version": 3
   },
   "file_extension": ".py",
   "mimetype": "text/x-python",
   "name": "python",
   "nbconvert_exporter": "python",
   "pygments_lexer": "ipython3",
   "version": "3.10.12"
  }
 },
 "nbformat": 4,
 "nbformat_minor": 5
}
